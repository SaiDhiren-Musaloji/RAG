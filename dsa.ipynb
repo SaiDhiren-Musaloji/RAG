{
 "cells": [
  {
   "cell_type": "code",
   "execution_count": 1,
   "id": "6a4041b5",
   "metadata": {},
   "outputs": [
    {
     "name": "stdout",
     "output_type": "stream",
     "text": [
      "\n",
      "Dijkstra's Algorithm starting from vertex D:\n",
      "Distance from D to A: 4\n",
      "Distance from D to B: 8\n",
      "Distance from D to C: 6\n",
      "Distance from D to D: 0\n",
      "Distance from D to E: 2\n",
      "Distance from D to F: 10\n",
      "Distance from D to G: 7\n"
     ]
    }
   ],
   "source": [
    "class Graph:\n",
    "    def __init__(self, size):\n",
    "        self.adj_matrix = [[0] * size for _ in range(size)]\n",
    "        self.size = size\n",
    "        self.vertex_data = [''] * size\n",
    "\n",
    "    def add_edge(self, u, v, weight):\n",
    "        if 0 <= u < self.size and 0 <= v < self.size:\n",
    "            self.adj_matrix[u][v] = weight\n",
    "            self.adj_matrix[v][u] = weight  # For undirected graph\n",
    "\n",
    "    def add_vertex_data(self, vertex, data):\n",
    "        if 0 <= vertex < self.size:\n",
    "            self.vertex_data[vertex] = data\n",
    "\n",
    "    def dijkstra(self, start_vertex_data):\n",
    "        start_vertex = self.vertex_data.index(start_vertex_data)\n",
    "        distances = [float('inf')] * self.size\n",
    "        distances[start_vertex] = 0\n",
    "        visited = [False] * self.size\n",
    "\n",
    "        for _ in range(self.size):\n",
    "            min_distance = float('inf')\n",
    "            u = None\n",
    "            for i in range(self.size):\n",
    "                if not visited[i] and distances[i] < min_distance:\n",
    "                    min_distance = distances[i]\n",
    "                    u = i\n",
    "\n",
    "            if u is None:\n",
    "                break\n",
    "\n",
    "            visited[u] = True\n",
    "\n",
    "            for v in range(self.size):\n",
    "                if self.adj_matrix[u][v] != 0 and not visited[v]:\n",
    "                    alt = distances[u] + self.adj_matrix[u][v]\n",
    "                    if alt < distances[v]:\n",
    "                        distances[v] = alt\n",
    "\n",
    "        return distances\n",
    "\n",
    "g = Graph(7)\n",
    "\n",
    "g.add_vertex_data(0, 'A')\n",
    "g.add_vertex_data(1, 'B')\n",
    "g.add_vertex_data(2, 'C')\n",
    "g.add_vertex_data(3, 'D')\n",
    "g.add_vertex_data(4, 'E')\n",
    "g.add_vertex_data(5, 'F')\n",
    "g.add_vertex_data(6, 'G')\n",
    "\n",
    "g.add_edge(3, 0, 4)  # D - A, weight 5\n",
    "g.add_edge(3, 4, 2)  # D - E, weight 2\n",
    "g.add_edge(0, 2, 3)  # A - C, weight 3\n",
    "g.add_edge(0, 4, 4)  # A - E, weight 4\n",
    "g.add_edge(4, 2, 4)  # E - C, weight 4\n",
    "g.add_edge(4, 6, 5)  # E - G, weight 5\n",
    "g.add_edge(2, 5, 5)  # C - F, weight 5\n",
    "g.add_edge(2, 1, 2)  # C - B, weight 2\n",
    "g.add_edge(1, 5, 2)  # B - F, weight 2\n",
    "g.add_edge(6, 5, 5)  # G - F, weight 5\n",
    "\n",
    "# Dijkstra's algorithm from D to all vertices\n",
    "print(\"\\nDijkstra's Algorithm starting from vertex D:\")\n",
    "distances = g.dijkstra('D')\n",
    "for i, d in enumerate(distances):\n",
    "    print(f\"Distance from D to {g.vertex_data[i]}: {d}\")"
   ]
  }
 ],
 "metadata": {
  "kernelspec": {
   "display_name": "venv",
   "language": "python",
   "name": "python3"
  },
  "language_info": {
   "codemirror_mode": {
    "name": "ipython",
    "version": 3
   },
   "file_extension": ".py",
   "mimetype": "text/x-python",
   "name": "python",
   "nbconvert_exporter": "python",
   "pygments_lexer": "ipython3",
   "version": "3.12.2"
  }
 },
 "nbformat": 4,
 "nbformat_minor": 5
}
